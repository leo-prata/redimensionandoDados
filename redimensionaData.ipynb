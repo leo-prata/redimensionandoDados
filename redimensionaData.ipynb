{
 "cells": [
  {
   "cell_type": "code",
   "execution_count": 1,
   "metadata": {},
   "outputs": [
    {
     "name": "stdout",
     "output_type": "stream",
     "text": [
      "To use the get_shape_from_baseconcar, InputShapeSetterEEG, BraindecodeDatasetLoaderyou need to install `braindecode`.`pip install braindecode` or Please refer to `https://braindecode.org`.\n"
     ]
    },
    {
     "name": "stderr",
     "output_type": "stream",
     "text": [
      "c:\\Users\\leopp\\AppData\\Local\\Programs\\Python\\Python311\\Lib\\site-packages\\moabb\\pipelines\\__init__.py:26: ModuleNotFoundError: Tensorflow is not installed. You won't be able to use these MOABB pipelines if you attempt to do so.\n",
      "  warn(\n"
     ]
    }
   ],
   "source": [
    "from moabb.datasets import SSVEPExo\n",
    "import numpy as np\n",
    "import mne"
   ]
  },
  {
   "cell_type": "code",
   "execution_count": 2,
   "metadata": {},
   "outputs": [
    {
     "name": "stderr",
     "output_type": "stream",
     "text": [
      "SSVEPExo has been renamed to Kalunga2016. SSVEPExo will be removed in version 1.1.\n",
      "The dataset class name 'SSVEPExo' must be an abbreviation of its code 'Kalunga2016'. See moabb.datasets.base.is_abbrev for more information.\n"
     ]
    },
    {
     "name": "stdout",
     "output_type": "stream",
     "text": [
      "<class 'mne.io.fiff.raw.Raw'>\n"
     ]
    }
   ],
   "source": [
    "dataset = SSVEPExo()\n",
    "Xraw = dataset.get_data(subjects=[1])[1]['0']['0']\n",
    "print(type(Xraw))"
   ]
  },
  {
   "cell_type": "code",
   "execution_count": 4,
   "metadata": {},
   "outputs": [
    {
     "name": "stdout",
     "output_type": "stream",
     "text": [
      "57024\n",
      "Not setting metadata\n",
      "32 matching events found\n",
      "No baseline correction applied\n",
      "0 projection items activated\n",
      "Using data from preloaded Raw for 32 events and 513 original time points ...\n",
      "0 bad epochs dropped\n",
      "(32, 8, 512)\n",
      "(32,)\n"
     ]
    }
   ],
   "source": [
    "events = []\n",
    "corte = Xraw.get_data()[8]\n",
    "print(len(corte)) #len(corte) == 57024\n",
    "#A ultima linha, ou seja, Xraw[8], é composta quase toda por 0, mas nos momentos onde não é 0, é onde há os pensamentos e é o que a gente quer\n",
    "for i in range(len(corte)):\n",
    "  if corte[i] != 0:\n",
    "    events.append([i,0,corte[i]]) \n",
    "\n",
    "events = np.array(events).astype(int)\n",
    "X = mne.Epochs(Xraw, events, tmin=0, tmax=2, baseline=None).get_data()[:,:-1,:-1]\n",
    "Y = events[:,2]\n",
    "#[8][512] simboliza um pensamento em dois segundos (256Hz * 2 == 512)\n",
    "#a primeira dimensão, então, o [32] significa que houveram 32 pensamentos de [8][512]\n",
    "print(X.shape) \n",
    "print(Y.shape)\n"
   ]
  }
 ],
 "metadata": {
  "kernelspec": {
   "display_name": "Python 3",
   "language": "python",
   "name": "python3"
  },
  "language_info": {
   "codemirror_mode": {
    "name": "ipython",
    "version": 3
   },
   "file_extension": ".py",
   "mimetype": "text/x-python",
   "name": "python",
   "nbconvert_exporter": "python",
   "pygments_lexer": "ipython3",
   "version": "3.11.5"
  }
 },
 "nbformat": 4,
 "nbformat_minor": 2
}
